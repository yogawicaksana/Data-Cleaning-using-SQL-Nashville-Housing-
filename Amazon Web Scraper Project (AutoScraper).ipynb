{
 "cells": [
  {
   "cell_type": "code",
   "execution_count": 1,
   "metadata": {},
   "outputs": [],
   "source": [
    "## Import libraries\n",
    "\n",
    "from autoscraper import AutoScraper"
   ]
  },
  {
   "cell_type": "code",
   "execution_count": 2,
   "metadata": {},
   "outputs": [],
   "source": [
    "## Declare url and what value we want to get\n",
    "\n",
    "url=\"https://www.amazon.com/s?k=iphone\"\n",
    "\n",
    "wanted_list=[\"$459.00\",\"(Refurbished) Apple iPhone 11, US Version, 64GB, Black - Unlocked\"]"
   ]
  },
  {
   "cell_type": "code",
   "execution_count": 3,
   "metadata": {},
   "outputs": [
    {
     "name": "stdout",
     "output_type": "stream",
     "text": [
      "['$459.00', '$199.00', '$284.00', '$449.99', '$362.93', '$385.00', '$689.99', '$669.00', '$479.00', '$569.00', '$276.95', '$729.00', '$899.00', '$1,323.00', '$349.99', '$594.99', '$365.00', '$144.40', '(Refurbished) Apple iPhone 11, US Version, 64GB, Black - Unlocked', '(Renewed) Apple iPhone 8, US Version, 64GB, Space Gray - Unlocked', '(Renewed) Apple iPhone 8 Plus, US Version, 64GB, Gold - Unlocked', 'Apple iPhone X, US Version, 256GB, Space Gray - Unlocked (Renewed)', 'Apple iPhone 12, 64GB, White - Fully Unlocked (Renewed)', '(Renewed) Apple iPhone 11 Pro Max, US Version, 64GB, Midnight Green - Unlocked', 'Apple iPhone 11, 64GB, Purple - Unlocked (Renewed Premium)', 'Apple iPhone SE 2nd Generation, US Version, 64GB, Black - Unlocked (Renewed)', 'Apple iPhone 11 Pro, 256GB, Gold - Fully Unlocked (Renewed Premium)', 'Total Wireless Apple iPhone 7 4G LTE Prepaid Smartphone - 32GB - Black - Carrier Locked', 'Tracfone Apple iPhone 7 4G LTE Prepaid Smartphone - 32GB - Black - Carrier Locked', 'Apple iPhone 12 Pro Max, 512GB, Pacific Blue - Unlocked (Renewed Premium)', '(Refurbished) Apple iPhone XR, US Version, 64GB, Black - Unlocked', '(Refurbished) Apple iPhone 11 Pro, US Version, 64GB, Space Gray - Unlocked', '(Renewed) Apple iPhone XS, US Version, 64GB, Space Gray - Unlocked', '(Refurbished) Apple iPhone 7, 32GB, Silver - Fully Unlocked']\n"
     ]
    }
   ],
   "source": [
    "## Scrape time\n",
    "\n",
    "scraper=AutoScraper()\n",
    "result=scraper.build(url,wanted_list)\n",
    "print(result)"
   ]
  },
  {
   "cell_type": "code",
   "execution_count": 5,
   "metadata": {},
   "outputs": [
    {
     "data": {
      "text/plain": [
       "{'rule_8ayy': ['$199.00',\n",
       "  '$689.99',\n",
       "  '$479.00',\n",
       "  '$569.00',\n",
       "  '$449.99',\n",
       "  '$284.00',\n",
       "  '$449.99',\n",
       "  '$366.00',\n",
       "  '$409.00',\n",
       "  '$729.00',\n",
       "  '$899.00',\n",
       "  '$549.00',\n",
       "  '$579.00',\n",
       "  '$608.00',\n",
       "  '$349.99',\n",
       "  '$1,250.00',\n",
       "  '$144.40'],\n",
       " 'rule_s733': ['$199.00',\n",
       "  '$689.99',\n",
       "  '$479.00',\n",
       "  '$569.00',\n",
       "  '$449.99',\n",
       "  '$284.00',\n",
       "  '$449.99',\n",
       "  '$366.00',\n",
       "  '$409.00',\n",
       "  '$729.00',\n",
       "  '$899.00',\n",
       "  '$549.00',\n",
       "  '$579.00',\n",
       "  '$608.00',\n",
       "  '$349.99',\n",
       "  '$1,250.00',\n",
       "  '$144.40'],\n",
       " 'rule_nhkx': ['(Renewed) Apple iPhone 8, US Version, 64GB, Space Gray - Unlocked',\n",
       "  'Apple iPhone 12, 64GB, White - Fully Unlocked (Renewed)',\n",
       "  'Apple iPhone 11, 64GB, Purple - Unlocked (Renewed Premium)',\n",
       "  '(Refurbished) Apple iPhone 11, US Version, 64GB, Red - Unlocked',\n",
       "  '(Renewed) Apple iPhone 8 Plus, US Version, 64GB, Gold - Unlocked',\n",
       "  'Apple iPhone X, 64GB, Space Gray - Fully Unlocked (Renewed Premium)',\n",
       "  'Apple iPhone 11 Pro, 256GB, Gold - Fully Unlocked (Renewed Premium)',\n",
       "  'Apple iPhone XS Max, US Version, 512GB, Gold - Unlocked (Renewed)',\n",
       "  'Tracfone Apple iPhone 7 4G LTE Prepaid Smartphone - 32GB - Black - Carrier Locked',\n",
       "  'Total Wireless Apple iPhone 7 4G LTE Prepaid Smartphone - 32GB - Black - Carrier Locked',\n",
       "  'Simple Mobile Prepaid - Apple iPhone X (64GB) - Silver [Locked to Carrier – Simple Mobile]',\n",
       "  'Apple iPhone 11 [64GB, Purple] + Carrier Subscription [Cricket Wireless]',\n",
       "  '(Renewed) Apple iPhone 11 Pro, US Version, 64GB, Gold - Unlocked',\n",
       "  '(Refurbished) Apple iPhone XR, US Version, 64GB, Black - Unlocked',\n",
       "  'Apple iPhone 12 Pro, 128GB, Pacific Blue - Fully Unlocked (Renewed)',\n",
       "  '(Refurbished) Apple iPhone 7, 32GB, Silver - Fully Unlocked'],\n",
       " 'rule_a3le': ['(Renewed) Apple iPhone 8, US Version, 64GB, Space Gray - Unlocked',\n",
       "  'Apple iPhone 12, 64GB, White - Fully Unlocked (Renewed)',\n",
       "  'Apple iPhone 11, 64GB, Purple - Unlocked (Renewed Premium)',\n",
       "  '(Refurbished) Apple iPhone 11, US Version, 64GB, Red - Unlocked',\n",
       "  '(Renewed) Apple iPhone 8 Plus, US Version, 64GB, Gold - Unlocked',\n",
       "  'Apple iPhone X, 64GB, Space Gray - Fully Unlocked (Renewed Premium)',\n",
       "  'Apple iPhone 11 Pro, 256GB, Gold - Fully Unlocked (Renewed Premium)',\n",
       "  'Apple iPhone XS Max, US Version, 512GB, Gold - Unlocked (Renewed)',\n",
       "  'Tracfone Apple iPhone 7 4G LTE Prepaid Smartphone - 32GB - Black - Carrier Locked',\n",
       "  'Total Wireless Apple iPhone 7 4G LTE Prepaid Smartphone - 32GB - Black - Carrier Locked',\n",
       "  'Simple Mobile Prepaid - Apple iPhone X (64GB) - Silver [Locked to Carrier – Simple Mobile]',\n",
       "  'Apple iPhone 11 [64GB, Purple] + Carrier Subscription [Cricket Wireless]',\n",
       "  '(Renewed) Apple iPhone 11 Pro, US Version, 64GB, Gold - Unlocked',\n",
       "  '(Refurbished) Apple iPhone XR, US Version, 64GB, Black - Unlocked',\n",
       "  'Apple iPhone 12 Pro, 128GB, Pacific Blue - Fully Unlocked (Renewed)',\n",
       "  '(Refurbished) Apple iPhone 7, 32GB, Silver - Fully Unlocked']}"
      ]
     },
     "execution_count": 5,
     "metadata": {},
     "output_type": "execute_result"
    }
   ],
   "source": [
    "## Display result\n",
    "scraper.get_result_similar(url, grouped=True)"
   ]
  },
  {
   "cell_type": "code",
   "execution_count": 6,
   "metadata": {},
   "outputs": [],
   "source": [
    "## Indexing the result\n",
    "scraper.set_rule_aliases({'rule_nhkx':'Title', 'rule_8ayy':'Price'})\n",
    "scraper.keep_rules(['rule_nhkx', 'rule_8ayy'])\n",
    "scraper.save('amazon-search')"
   ]
  },
  {
   "cell_type": "code",
   "execution_count": 7,
   "metadata": {},
   "outputs": [],
   "source": [
    "## Do the same thing for 'macbook'\n",
    "results = scraper.get_result_similar('https://www.amazon.com/s?k=macbook',\n",
    "                                      group_by_alias=True) "
   ]
  },
  {
   "cell_type": "code",
   "execution_count": 8,
   "metadata": {
    "scrolled": true
   },
   "outputs": [
    {
     "data": {
      "text/plain": [
       "['$310.00',\n",
       " '$360.00',\n",
       " '$359.00',\n",
       " '$285.00',\n",
       " '$784.00',\n",
       " '$1,469.99',\n",
       " '$455.00',\n",
       " '$1,669.99',\n",
       " '$449.99',\n",
       " '$488.06',\n",
       " '$765.00',\n",
       " '$464.00']"
      ]
     },
     "execution_count": 8,
     "metadata": {},
     "output_type": "execute_result"
    }
   ],
   "source": [
    "## Show Price of 'macbook'\n",
    "results['Price']"
   ]
  },
  {
   "cell_type": "code",
   "execution_count": 9,
   "metadata": {},
   "outputs": [],
   "source": [
    "## Save list of Price into x\n",
    "x = results['Price']"
   ]
  },
  {
   "cell_type": "code",
   "execution_count": 10,
   "metadata": {},
   "outputs": [
    {
     "data": {
      "text/plain": [
       "['2020 Apple MacBook Air Laptop: Apple M1 Chip, 13” Retina Display, 8GB RAM, 256GB SSD Storage, Backlit Keyboard, FaceTime HD Camera, Touch ID. Works with iPhone/iPad; Gold',\n",
       " '2020 Apple MacBook Pro with Apple M1 Chip (13-inch, 8GB RAM, 256GB SSD Storage) - Space Gray',\n",
       " '2021 Apple MacBook Pro (16-inch, Apple M1 Pro chip with 10‐core CPU and 16‐core GPU, 16GB RAM, 512GB SSD) - Space Gray',\n",
       " '(Renewed) Apple MacBook Air MJVM2LL/A 11.6 Inch Laptop (Intel Core i5 Dual-Core 1.6GHz up to 2.7GHz, 4GB RAM, 128GB SSD, Wi-Fi, Bluetooth 4.0, Integrated Intel HD Graphics 6000, Mac OS)',\n",
       " '2021 Apple MacBook Pro (14-inch, Apple M1 Pro chip with 10‐core CPU and 16‐core GPU, 16GB RAM, 1TB SSD) - Silver',\n",
       " '(Renewed) Apple MacBook Air MJVE2LL/A 13-inch Laptop 1.6GHz Core i5, 8GB RAM, 128GB SSD',\n",
       " '2019 Apple MacBook Pro (16-inch, 16GB RAM, 1TB Storage, 2.3GHz Intel Core i9) - Space Gray',\n",
       " 'Apple MacBook Air MMGF2LL/A 13.3-Inch Laptop (5th Gen Intel Core i5 1.6 GHz, 8 GB LPDDR3, 128 GB) (Renewed)',\n",
       " 'Apple MacBook Air MD711LL/B 11.6in Widescreen LED Backlit HD Laptop, Intel Dual-Core i5 up to 2.7GHz, 4GB RAM, 128GB SSD, HD Camera, USB 3.0, 802.11ac, Bluetooth, Mac OS X (Renewed)',\n",
       " 'Mid 2017 Apple MacBook Pro with Touch Bar, with 3.1GHz Intel Core i5 (13-inch, 8GB RAM, 512GB SSD) - Space Gray (Renewed)',\n",
       " 'Apple MacBook Pro with Apple M1 Chip (13-inch, 16GB RAM, 256GB SSD Storage) - Space Gray (Latest Model) Z11B000E3',\n",
       " 'Apple MacBook Air 13.3\" MQD32LL/A, Intel Core i5-5350U 1.8Ghz, 8GB RAM, 256GB SSD, Silver (Renewed)',\n",
       " 'Apple MacBook Pro 13-in M1 8-core GPU 16GB 512GB Silver (CTO)',\n",
       " 'Apple MacBook Pro MF839LL/A 13.3in Laptop, Intel Core i5 2.7 GHz, 8GB Ram, 128GB SSD (Renewed)',\n",
       " '(Renewed) Apple MacBook Air (13-inch, 8GB RAM, 256GB SSD Storage) - Space Gray (2020 model)',\n",
       " '(Refurbished) Apple MacBook Pro 13.3in Retina Laptop Intel i5 Dual Core 2.6GHz 8GB 128GB SSD - MGX72LL/A']"
      ]
     },
     "execution_count": 10,
     "metadata": {},
     "output_type": "execute_result"
    }
   ],
   "source": [
    "## Show Title of 'macbook'\n",
    "results['Title']"
   ]
  },
  {
   "cell_type": "code",
   "execution_count": 11,
   "metadata": {},
   "outputs": [],
   "source": [
    "## Save list of Title into x\n",
    "y = results['Title']"
   ]
  },
  {
   "cell_type": "code",
   "execution_count": 27,
   "metadata": {},
   "outputs": [
    {
     "name": "stdout",
     "output_type": "stream",
     "text": [
      "2021-11-04\n"
     ]
    }
   ],
   "source": [
    "## Import datetime so we can add datetime into dataframe\n",
    "import datetime\n",
    "\n",
    "today = datetime.date.today()\n",
    "\n",
    "print(today)"
   ]
  },
  {
   "cell_type": "code",
   "execution_count": 28,
   "metadata": {},
   "outputs": [
    {
     "data": {
      "text/html": [
       "<div>\n",
       "<style scoped>\n",
       "    .dataframe tbody tr th:only-of-type {\n",
       "        vertical-align: middle;\n",
       "    }\n",
       "\n",
       "    .dataframe tbody tr th {\n",
       "        vertical-align: top;\n",
       "    }\n",
       "\n",
       "    .dataframe thead th {\n",
       "        text-align: right;\n",
       "    }\n",
       "</style>\n",
       "<table border=\"1\" class=\"dataframe\">\n",
       "  <thead>\n",
       "    <tr style=\"text-align: right;\">\n",
       "      <th></th>\n",
       "      <th>Title</th>\n",
       "      <th>Price</th>\n",
       "    </tr>\n",
       "  </thead>\n",
       "  <tbody>\n",
       "    <tr>\n",
       "      <th>0</th>\n",
       "      <td>2020 Apple MacBook Air Laptop: Apple M1 Chip, ...</td>\n",
       "      <td>$310.00</td>\n",
       "    </tr>\n",
       "    <tr>\n",
       "      <th>1</th>\n",
       "      <td>2020 Apple MacBook Pro with Apple M1 Chip (13-...</td>\n",
       "      <td>$360.00</td>\n",
       "    </tr>\n",
       "    <tr>\n",
       "      <th>2</th>\n",
       "      <td>2021 Apple MacBook Pro (16-inch, Apple M1 Pro ...</td>\n",
       "      <td>$359.00</td>\n",
       "    </tr>\n",
       "    <tr>\n",
       "      <th>3</th>\n",
       "      <td>(Renewed) Apple MacBook Air MJVM2LL/A 11.6 Inc...</td>\n",
       "      <td>$285.00</td>\n",
       "    </tr>\n",
       "    <tr>\n",
       "      <th>4</th>\n",
       "      <td>2021 Apple MacBook Pro (14-inch, Apple M1 Pro ...</td>\n",
       "      <td>$784.00</td>\n",
       "    </tr>\n",
       "  </tbody>\n",
       "</table>\n",
       "</div>"
      ],
      "text/plain": [
       "                                               Title    Price\n",
       "0  2020 Apple MacBook Air Laptop: Apple M1 Chip, ...  $310.00\n",
       "1  2020 Apple MacBook Pro with Apple M1 Chip (13-...  $360.00\n",
       "2  2021 Apple MacBook Pro (16-inch, Apple M1 Pro ...  $359.00\n",
       "3  (Renewed) Apple MacBook Air MJVM2LL/A 11.6 Inc...  $285.00\n",
       "4  2021 Apple MacBook Pro (14-inch, Apple M1 Pro ...  $784.00"
      ]
     },
     "execution_count": 28,
     "metadata": {},
     "output_type": "execute_result"
    }
   ],
   "source": [
    "## Insert x and y into dataframe\n",
    "import pandas as pd\n",
    "df3 = pd.DataFrame(list(zip(y,x)), columns=[\"Title\", \"Price\"])\n",
    "df3.head()"
   ]
  },
  {
   "cell_type": "code",
   "execution_count": 29,
   "metadata": {},
   "outputs": [
    {
     "data": {
      "text/plain": [
       "12"
      ]
     },
     "execution_count": 29,
     "metadata": {},
     "output_type": "execute_result"
    }
   ],
   "source": [
    "len(list(zip(y,x)))"
   ]
  },
  {
   "cell_type": "code",
   "execution_count": 30,
   "metadata": {},
   "outputs": [
    {
     "data": {
      "text/html": [
       "<div>\n",
       "<style scoped>\n",
       "    .dataframe tbody tr th:only-of-type {\n",
       "        vertical-align: middle;\n",
       "    }\n",
       "\n",
       "    .dataframe tbody tr th {\n",
       "        vertical-align: top;\n",
       "    }\n",
       "\n",
       "    .dataframe thead th {\n",
       "        text-align: right;\n",
       "    }\n",
       "</style>\n",
       "<table border=\"1\" class=\"dataframe\">\n",
       "  <thead>\n",
       "    <tr style=\"text-align: right;\">\n",
       "      <th></th>\n",
       "      <th>Title</th>\n",
       "      <th>Price</th>\n",
       "      <th>Date</th>\n",
       "    </tr>\n",
       "  </thead>\n",
       "  <tbody>\n",
       "    <tr>\n",
       "      <th>0</th>\n",
       "      <td>2020 Apple MacBook Air Laptop: Apple M1 Chip, ...</td>\n",
       "      <td>$1,669.99</td>\n",
       "      <td>2021-11-04</td>\n",
       "    </tr>\n",
       "    <tr>\n",
       "      <th>1</th>\n",
       "      <td>2020 Apple MacBook Pro with Apple M1 Chip (13-...</td>\n",
       "      <td>$2,678.99</td>\n",
       "      <td>2021-11-04</td>\n",
       "    </tr>\n",
       "    <tr>\n",
       "      <th>2</th>\n",
       "      <td>2021 Apple MacBook Pro (16-inch, Apple M1 Pro ...</td>\n",
       "      <td>$310.00</td>\n",
       "      <td>2021-11-04</td>\n",
       "    </tr>\n",
       "    <tr>\n",
       "      <th>3</th>\n",
       "      <td>Apple MacBook Pro 13-in M1 8-core GPU 16GB 512...</td>\n",
       "      <td>$359.00</td>\n",
       "      <td>2021-11-04</td>\n",
       "    </tr>\n",
       "    <tr>\n",
       "      <th>4</th>\n",
       "      <td>2021 Apple MacBook Pro (14-inch, Apple M1 Pro ...</td>\n",
       "      <td>$740.05</td>\n",
       "      <td>2021-11-04</td>\n",
       "    </tr>\n",
       "  </tbody>\n",
       "</table>\n",
       "</div>"
      ],
      "text/plain": [
       "                                               Title      Price        Date\n",
       "0  2020 Apple MacBook Air Laptop: Apple M1 Chip, ...  $1,669.99  2021-11-04\n",
       "1  2020 Apple MacBook Pro with Apple M1 Chip (13-...  $2,678.99  2021-11-04\n",
       "2  2021 Apple MacBook Pro (16-inch, Apple M1 Pro ...    $310.00  2021-11-04\n",
       "3  Apple MacBook Pro 13-in M1 8-core GPU 16GB 512...    $359.00  2021-11-04\n",
       "4  2021 Apple MacBook Pro (14-inch, Apple M1 Pro ...    $740.05  2021-11-04"
      ]
     },
     "execution_count": 30,
     "metadata": {},
     "output_type": "execute_result"
    }
   ],
   "source": [
    "## Adding date column into dataframe\n",
    "df['Date'] = today\n",
    "df.head()"
   ]
  },
  {
   "cell_type": "code",
   "execution_count": 31,
   "metadata": {},
   "outputs": [],
   "source": [
    "## Export dataframe into csv file\n",
    "df.to_csv('macbook.csv', index=False)"
   ]
  },
  {
   "cell_type": "code",
   "execution_count": null,
   "metadata": {},
   "outputs": [],
   "source": []
  }
 ],
 "metadata": {
  "kernelspec": {
   "display_name": "Python 3",
   "language": "python",
   "name": "python3"
  },
  "language_info": {
   "codemirror_mode": {
    "name": "ipython",
    "version": 3
   },
   "file_extension": ".py",
   "mimetype": "text/x-python",
   "name": "python",
   "nbconvert_exporter": "python",
   "pygments_lexer": "ipython3",
   "version": "3.7.4"
  }
 },
 "nbformat": 4,
 "nbformat_minor": 2
}
